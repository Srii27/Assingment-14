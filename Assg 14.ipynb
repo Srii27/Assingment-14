{
 "cells": [
  {
   "cell_type": "markdown",
   "id": "c4f9eed1",
   "metadata": {},
   "source": [
    "# ASSIGNMENT 14 "
   ]
  },
  {
   "cell_type": "markdown",
   "id": "adddf73c",
   "metadata": {},
   "source": [
    "1.What does RGBA stand for?"
   ]
  },
  {
   "cell_type": "markdown",
   "id": "f19ab039",
   "metadata": {},
   "source": [
    ">Ans: RGBA(RED – GREEN – BLUE – ALPHA ). The RGB colour model is extended in this specification to include “alpha” to allow specification of the opacity of a colour.\n"
   ]
  },
  {
   "cell_type": "markdown",
   "id": "7b28ab1b",
   "metadata": {},
   "source": [
    "2. From the Pillow module, how do you get the RGBA value of any images?\n"
   ]
  },
  {
   "cell_type": "markdown",
   "id": "7d340a09",
   "metadata": {},
   "source": [
    ">Ans: Pillow offers the ImageColor.getcolor() function. This function takes a color name string as its first argument, and the string 'RGBA' as its second argument, and it returns an RGBA tuple.\n"
   ]
  },
  {
   "cell_type": "markdown",
   "id": "8a17311e",
   "metadata": {},
   "source": [
    "3. What is a box tuple, and how does it work?\n"
   ]
  },
  {
   "cell_type": "markdown",
   "id": "8633bfe5",
   "metadata": {},
   "source": [
    ">Ans: \tImage pixels are addressed with x- and y-coordinates, which respectively specify a pixel’s horizontal and vertical locations in an image. The origin is the pixel at the top-left corner of the image and is specified with the notation (0, 0). The first zero represents the x-coordinate, which starts at zero at the origin and increases going from left to right. The second zero represents the y-coordinate, which starts at zero at the origin and increases going down the image.\n",
    "\n",
    "    Many of Pillow’s functions and methods take a box tuple argument. This means Pillow is expecting a tuple of four integer coordinates that represent a rectangular region in an image. The four integers are, in order, as follows:\n",
    "\n",
    "Left - The x-coordinate of the leftmost edge of the box.\n",
    "\n",
    "Top - The y-coordinate of the top edge of the box.\n",
    "\n",
    "Right - The x-coordinate of one pixel to the right of the rightmost edge of the box. This integer must be greater than the left integer.\n",
    "\n",
    "Bottom  - The y-coordinate of one pixel lower than the bottom edge of the box. This integer must be greater than the top integer.\n"
   ]
  },
  {
   "cell_type": "markdown",
   "id": "a3cc3627",
   "metadata": {},
   "source": [
    "4. Use your image and load in notebook then, How can you find out the width and height of an Image object?\n"
   ]
  },
  {
   "cell_type": "code",
   "execution_count": 2,
   "id": "682e7d97",
   "metadata": {},
   "outputs": [
    {
     "name": "stdout",
     "output_type": "stream",
     "text": [
      "The height of the image is:  4000\n",
      "The width of the image is:  6000\n"
     ]
    }
   ],
   "source": [
    "from PIL import Image\n",
    "  \n",
    "# get image\n",
    "filepath = \"RRP01983.jpg\"\n",
    "img = Image.open(filepath)\n",
    "  \n",
    "# get width and height\n",
    "width = img.width\n",
    "height = img.height\n",
    "  \n",
    "# display width and height\n",
    "print(\"The height of the image is: \", height)\n",
    "print(\"The width of the image is: \", width)"
   ]
  },
  {
   "cell_type": "code",
   "execution_count": 3,
   "id": "6fb6ffb8",
   "metadata": {},
   "outputs": [
    {
     "name": "stdout",
     "output_type": "stream",
     "text": [
      "The height of the image is:  4000\n",
      "The width of the image is:  6000\n"
     ]
    }
   ],
   "source": [
    "from PIL import Image\n",
    "  \n",
    "# get image\n",
    "filepath = \"RRP01983.jpg\"\n",
    "img = Image.open(filepath)\n",
    "  \n",
    "# get width and height\n",
    "width,height = img.size\n",
    "  \n",
    "# display width and height\n",
    "print(\"The height of the image is: \", height)\n",
    "print(\"The width of the image is: \", width)"
   ]
  },
  {
   "cell_type": "markdown",
   "id": "3109b464",
   "metadata": {},
   "source": [
    "5. What method would you call to get Image object for a 100×100 image, excluding the lower-left quarter of it?\n"
   ]
  },
  {
   "cell_type": "code",
   "execution_count": 5,
   "id": "815fb507",
   "metadata": {},
   "outputs": [],
   "source": [
    "from PIL import Image\n",
    " \n",
    "# Opens a image in RGB mode\n",
    "im = Image.open(r\"C:\\Users\\Sri\\OneDrive\\Desktop\\Upload\\RRP01983.JPG\")\n",
    " \n",
    "# Setting the points for cropped image\n",
    "left = 0\n",
    "top = 50\n",
    "right = 50\n",
    "bottom = 100\n",
    " \n",
    "# Cropped image of above dimension\n",
    "# (It will not change original image)\n",
    "im1 = im.crop((left, top, right, bottom))\n",
    " \n",
    "# Shows the image in image viewer\n",
    "im1.show()"
   ]
  },
  {
   "cell_type": "markdown",
   "id": "ea20446b",
   "metadata": {},
   "source": [
    "6. After making changes to an Image object, how could you save it as an image file?\n"
   ]
  },
  {
   "cell_type": "markdown",
   "id": "d0d36651",
   "metadata": {},
   "source": [
    ">Ans: Image.save() Saves this image under the given filename. If no format is specified, the format to use is determined from the filename extension, if possible."
   ]
  },
  {
   "cell_type": "code",
   "execution_count": null,
   "id": "42091c36",
   "metadata": {},
   "outputs": [],
   "source": [
    "# Importing Image module from PIL package \n",
    "from PIL import Image \n",
    "import PIL \n",
    "  \n",
    "# creating a image object (main image) \n",
    "im1 = Image.open(r\"C:\\Users\\System-Pc\\Desktop\\flower1.jpg\") \n",
    "  \n",
    "# save a image using extension\n",
    "im1 = im1.save(\"floral.jpg\")"
   ]
  },
  {
   "cell_type": "markdown",
   "id": "fc0b6d29",
   "metadata": {},
   "source": [
    "7. What module contains Pillow’s shape-drawing code?\n"
   ]
  },
  {
   "cell_type": "markdown",
   "id": "948fda46",
   "metadata": {},
   "source": [
    ">Ans: The 'ImageDraw' module provides simple 2D graphics support for Image Object. Generally, we use this module to create new images, annotate or retouch existing images and to generate graphics on the fly for web use. The graphics commands support the drawing of shapes and annotation of text."
   ]
  },
  {
   "cell_type": "markdown",
   "id": "a2a2e40a",
   "metadata": {},
   "source": [
    "8. Image objects do not have drawing methods. What kind of object does? How do you get this kind of object?\n"
   ]
  },
  {
   "cell_type": "markdown",
   "id": "317b0f10",
   "metadata": {},
   "source": [
    ">Ans:Opening the image to be used, img = Image.open('img_path.png')\n",
    "\n",
    "We need to create an object for the ImageDraw.Draw(img)[where 'img' is the object of original image].\n",
    "\n",
    "Draw = ImageDraw.Draw(img)\n",
    "\n",
    "Now this 'Draw' object have drawing methods."
   ]
  }
 ],
 "metadata": {
  "kernelspec": {
   "display_name": "Python 3 (ipykernel)",
   "language": "python",
   "name": "python3"
  },
  "language_info": {
   "codemirror_mode": {
    "name": "ipython",
    "version": 3
   },
   "file_extension": ".py",
   "mimetype": "text/x-python",
   "name": "python",
   "nbconvert_exporter": "python",
   "pygments_lexer": "ipython3",
   "version": "3.9.7"
  }
 },
 "nbformat": 4,
 "nbformat_minor": 5
}
